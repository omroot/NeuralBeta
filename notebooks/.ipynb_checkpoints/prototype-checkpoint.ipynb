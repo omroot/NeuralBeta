{
 "cells": [
  {
   "cell_type": "code",
   "execution_count": null,
   "id": "5df2f75b-a6dd-4068-b0fe-3cfdccf779ea",
   "metadata": {},
   "outputs": [],
   "source": []
  },
  {
   "cell_type": "code",
   "execution_count": null,
   "id": "91829651-068f-4b97-8d02-c671666d9d40",
   "metadata": {},
   "outputs": [],
   "source": []
  },
  {
   "cell_type": "code",
   "execution_count": null,
   "id": "6969ecca-8ad2-428f-a8a4-fe39c9f9ad70",
   "metadata": {},
   "outputs": [],
   "source": []
  },
  {
   "cell_type": "code",
   "execution_count": 1,
   "id": "a9eaf5ba-593e-49bc-800f-2d63a9d3968e",
   "metadata": {},
   "outputs": [],
   "source": [
    "%load_ext autoreload \n",
    "%autoreload 2"
   ]
  },
  {
   "cell_type": "code",
   "execution_count": 2,
   "id": "3be9ac58-7120-47f7-8cc3-24f5ac5c3bed",
   "metadata": {},
   "outputs": [],
   "source": [
    "%matplotlib inline\n",
    "\n",
    "import warnings\n",
    "warnings.filterwarnings('ignore')"
   ]
  },
  {
   "cell_type": "code",
   "execution_count": 3,
   "id": "46432cea-f915-4ee2-b9bf-8e8453a46690",
   "metadata": {},
   "outputs": [],
   "source": [
    "import sys\n",
    "sys.path.append('../')\n"
   ]
  },
  {
   "cell_type": "code",
   "execution_count": null,
   "id": "66522404-c41a-4d5a-9f59-23c24e5c9ade",
   "metadata": {},
   "outputs": [],
   "source": []
  },
  {
   "cell_type": "code",
   "execution_count": 4,
   "id": "6f04116b-00e8-458f-a3a9-0cf591c49831",
   "metadata": {},
   "outputs": [],
   "source": [
    "import torch\n",
    "import torch.nn as nn\n",
    "import torch.optim as optim\n",
    "import numpy as np\n",
    "import torch\n",
    "import torch.nn as nn\n",
    "from torch import Tensor\n",
    "import numpy as np\n",
    "from typing import Tuple\n",
    "import torch\n",
    "import torch.nn as nn\n",
    "import torch.optim as optim\n",
    "from torch.utils.data import DataLoader, TensorDataset\n",
    "from typing import Any\n",
    "from sklearn.metrics import mean_squared_error\n"
   ]
  },
  {
   "cell_type": "code",
   "execution_count": 5,
   "id": "094f4bbc-30db-443c-a6ce-abeb91b0ceb5",
   "metadata": {},
   "outputs": [],
   "source": [
    "import torch\n",
    "import torch.nn as nn\n",
    "import torch.optim as optim\n",
    "import numpy as np\n",
    "from sklearn.metrics import mean_squared_error"
   ]
  },
  {
   "cell_type": "code",
   "execution_count": 6,
   "id": "a556bd0e-497a-4b0a-b697-a555b20371c7",
   "metadata": {},
   "outputs": [],
   "source": [
    "import torch\n",
    "import torch.nn as nn\n",
    "import torch.optim as optim\n",
    "import numpy as np\n",
    "from sklearn.metrics import mean_squared_error"
   ]
  },
  {
   "cell_type": "code",
   "execution_count": null,
   "id": "71a892c0-dfdf-4fc1-b5a4-341a3d92b724",
   "metadata": {},
   "outputs": [],
   "source": []
  },
  {
   "cell_type": "code",
   "execution_count": 7,
   "id": "27c80947-ee01-4839-b4ac-07c2c202eb54",
   "metadata": {},
   "outputs": [],
   "source": [
    "from neuralbeta.models import NeuralBetaEstimator, train_beta_estimator, estimate_ols_beta, evaluate_beta_estimator\n",
    "from neuralbeta.generate import SyntheticDataGenerator, generate_synthetic_data\n",
    "from neuralbeta.utils import compute_rmse\n",
    "\n"
   ]
  },
  {
   "cell_type": "code",
   "execution_count": 8,
   "id": "eee28630-aada-4eef-abed-6bd23b7ea238",
   "metadata": {},
   "outputs": [
    {
     "name": "stdout",
     "output_type": "stream",
     "text": [
      "Epoch 1/10, Train Loss: 2.4291\n",
      "Epoch 2/10, Train Loss: 1.4393\n",
      "Epoch 3/10, Train Loss: 1.2388\n",
      "Epoch 4/10, Train Loss: 1.1959\n",
      "Epoch 5/10, Train Loss: 1.1760\n",
      "Epoch 6/10, Train Loss: 1.1617\n",
      "Epoch 7/10, Train Loss: 1.1503\n",
      "Epoch 8/10, Train Loss: 1.1394\n",
      "Epoch 9/10, Train Loss: 1.1262\n",
      "Epoch 10/10, Train Loss: 1.1140\n",
      "Test Y RMSE: 1.0537\n",
      "Test Beta RMSE: 0.2963\n",
      "Epoch 1/10, Train Loss: 2.7449\n",
      "Epoch 2/10, Train Loss: 1.6211\n",
      "Epoch 3/10, Train Loss: 1.2697\n",
      "Epoch 4/10, Train Loss: 1.2079\n",
      "Epoch 5/10, Train Loss: 1.1765\n",
      "Epoch 6/10, Train Loss: 1.1556\n",
      "Epoch 7/10, Train Loss: 1.1402\n",
      "Epoch 8/10, Train Loss: 1.1255\n",
      "Epoch 9/10, Train Loss: 1.1140\n",
      "Epoch 10/10, Train Loss: 1.1072\n",
      "Test Y RMSE: 1.0513\n",
      "Test Beta RMSE: 0.2903\n",
      "Epoch 1/10, Train Loss: 1.6386\n",
      "Epoch 2/10, Train Loss: 1.6239\n",
      "Epoch 3/10, Train Loss: 1.6239\n",
      "Epoch 4/10, Train Loss: 1.6237\n",
      "Epoch 5/10, Train Loss: 1.6236\n",
      "Epoch 6/10, Train Loss: 1.6235\n",
      "Epoch 7/10, Train Loss: 1.6236\n",
      "Epoch 8/10, Train Loss: 1.6236\n",
      "Epoch 9/10, Train Loss: 1.6235\n",
      "Epoch 10/10, Train Loss: 1.6236\n",
      "Test Y RMSE: 1.2748\n",
      "Test Beta RMSE: 0.7070\n"
     ]
    }
   ],
   "source": [
    "sample_size = 100_000\n",
    "seq_len = 65\n",
    "input_dim = 1\n",
    "\n",
    "batch_size = 128\n",
    "hidden_dim = 12  # Number of features in hidden layer\n",
    "learning_rate = 1e-4\n",
    "num_epochs = 10\n",
    "comparison_info = {}\n",
    "\n",
    "for data_type in ['constant', 'stepwise', 'cyclical']: \n",
    "\n",
    "    generator = SyntheticDataGenerator( length  = seq_len, n_samples = sample_size, beta_type=data_type)\n",
    "    x_train, y_train, beta_train = generator.generate_data()\n",
    "    generator = SyntheticDataGenerator(length  = seq_len, n_samples = sample_size,beta_type=data_type)\n",
    "    x_val, y_val, beta_val  = generator.generate_data()\n",
    "    generator = SyntheticDataGenerator(length  = seq_len, n_samples = sample_size,beta_type=data_type)\n",
    "    x_test, y_test, beta_test = generator.generate_data()\n",
    "    x_train = x_train.reshape(sample_size,seq_len, input_dim )\n",
    "    x_test = x_test.reshape(sample_size,seq_len, input_dim )\n",
    "\n",
    "    y_train = y_train.reshape(sample_size,seq_len, input_dim )\n",
    "    y_test = y_test.reshape(sample_size,seq_len, input_dim )\n",
    "\n",
    "    beta_train = beta_train.reshape(sample_size,seq_len, input_dim )\n",
    "    beta_test = beta_test.reshape(sample_size,seq_len, input_dim )\n",
    "    train_x_t, train_y_t, train_x_t1, train_y_t1, train_true_beta_t , train_true_beta_t1 = generate_synthetic_data(x_train, y_train,beta_train,  \n",
    "                                                                                                                   sample_size, seq_len)\n",
    "    test_x_t, test_y_t, test_x_t1, test_y_t1, test_true_beta_t , test_true_beta_t1 = generate_synthetic_data(x_test, y_test, beta_test, \n",
    "                                                                                                             sample_size, seq_len)\n",
    "\n",
    "    train_loader = torch.utils.data.DataLoader(torch.utils.data.TensorDataset(train_x_t, train_y_t, train_x_t1, \n",
    "                                                                              train_y_t1,train_true_beta_t , train_true_beta_t1), \n",
    "                                               batch_size=batch_size, shuffle=True)\n",
    "    test_loader = torch.utils.data.DataLoader(torch.utils.data.TensorDataset(test_x_t, test_y_t, test_x_t1, test_y_t1, \n",
    "                                                                             test_true_beta_t , test_true_beta_t1), \n",
    "                                              batch_size=batch_size, shuffle=False)\n",
    "\n",
    "    # Initialize model, loss function, and optimizer\n",
    "    model = NeuralBetaEstimator(input_dim=input_dim, hidden_dim=hidden_dim)\n",
    "    criterion = nn.MSELoss()  # Mean Squared Error Loss\n",
    "    optimizer = optim.Adam(model.parameters(), lr=learning_rate)\n",
    "\n",
    "    # Train the model\n",
    "    for epoch in range(num_epochs):\n",
    "        train_loss = train_beta_estimator(model, train_loader, optimizer, criterion)\n",
    "        print(f'Epoch {epoch+1}/{num_epochs}, Train Loss: {train_loss:.4f}')\n",
    "\n",
    "    # Evaluate the model\n",
    "    prediction_rmse, beta_rmse,true_betas, estimated_betas = evaluate_beta_estimator(model, test_loader, criterion)\n",
    "    print(f'Test Y RMSE: {prediction_rmse:.4f}')\n",
    "    print(f'Test Beta RMSE: {beta_rmse:.4f}')\n",
    "    \n",
    "    beta_ols_test = estimate_ols_beta(x_test, y_test)\n",
    "    ols_beta_rmse = float(compute_rmse(beta_ols_test, beta_test))\n",
    "    \n",
    "    comparison_info[data_type]={                      ' Neural BetaBeta RMSE':beta_rmse,\n",
    "                       'OLS Beta RMSE ':ols_beta_rmse,\n",
    "                      'Improvement': beta_rmse/ols_beta_rmse-1}\n",
    "\n",
    "\n",
    "\n",
    "\n"
   ]
  },
  {
   "cell_type": "code",
   "execution_count": 9,
   "id": "649c25d6-bf2a-4159-ad07-4a51e7487cef",
   "metadata": {},
   "outputs": [
    {
     "data": {
      "text/plain": [
       "{'constant': {' Neural BetaBeta RMSE': np.float64(0.296343251894973),\n",
       "  'OLS Beta RMSE ': 1.0589545567724257,\n",
       "  'Improvement': np.float64(-0.7201548923891561)},\n",
       " 'stepwise': {' Neural BetaBeta RMSE': np.float64(0.2903037998345321),\n",
       "  'OLS Beta RMSE ': 1.0579900170238947,\n",
       "  'Improvement': np.float64(-0.7256081861233898)},\n",
       " 'cyclical': {' Neural BetaBeta RMSE': np.float64(0.707008825125643),\n",
       "  'OLS Beta RMSE ': 0.628761014337635,\n",
       "  'Improvement': np.float64(0.12444761841736929)}}"
      ]
     },
     "execution_count": 9,
     "metadata": {},
     "output_type": "execute_result"
    }
   ],
   "source": [
    "comparison_info"
   ]
  },
  {
   "cell_type": "code",
   "execution_count": null,
   "id": "42fdd569-773a-44de-b451-5d424bd0bf77",
   "metadata": {},
   "outputs": [],
   "source": []
  },
  {
   "cell_type": "code",
   "execution_count": null,
   "id": "84e14d81-f395-4342-a0e6-fd0fe1db1a2b",
   "metadata": {},
   "outputs": [],
   "source": [
    "\n"
   ]
  },
  {
   "cell_type": "code",
   "execution_count": null,
   "id": "29e73703-e94b-41fa-92e6-b53d21ce3715",
   "metadata": {},
   "outputs": [],
   "source": [
    "\n",
    "\n"
   ]
  },
  {
   "cell_type": "code",
   "execution_count": null,
   "id": "83d0cd17-67de-4df8-8455-fa9b232e355e",
   "metadata": {},
   "outputs": [],
   "source": []
  },
  {
   "cell_type": "code",
   "execution_count": null,
   "id": "027b7a70-f7ed-4674-a8cc-85d59309ebce",
   "metadata": {
    "tags": []
   },
   "outputs": [],
   "source": [
    "\n",
    "\n"
   ]
  },
  {
   "cell_type": "code",
   "execution_count": null,
   "id": "f2684e7e-bafd-493c-b40e-6310964dc438",
   "metadata": {},
   "outputs": [],
   "source": []
  },
  {
   "cell_type": "code",
   "execution_count": null,
   "id": "eec75a5e-a7a7-4dce-9651-79c1f7d9e1c5",
   "metadata": {},
   "outputs": [],
   "source": []
  },
  {
   "cell_type": "code",
   "execution_count": null,
   "id": "2c27e8f6-8040-459a-a3c4-6a75a696c1c1",
   "metadata": {},
   "outputs": [],
   "source": []
  },
  {
   "cell_type": "code",
   "execution_count": null,
   "id": "db60dc27-cf86-4711-ae81-e0e258322ae3",
   "metadata": {},
   "outputs": [],
   "source": []
  },
  {
   "cell_type": "code",
   "execution_count": null,
   "id": "4e787fb2-6e8a-425f-8d86-10a55aadcbd0",
   "metadata": {},
   "outputs": [],
   "source": []
  }
 ],
 "metadata": {
  "kernelspec": {
   "display_name": "dl-labs",
   "language": "python",
   "name": "dl-labs"
  },
  "language_info": {
   "codemirror_mode": {
    "name": "ipython",
    "version": 3
   },
   "file_extension": ".py",
   "mimetype": "text/x-python",
   "name": "python",
   "nbconvert_exporter": "python",
   "pygments_lexer": "ipython3",
   "version": "3.10.14"
  }
 },
 "nbformat": 4,
 "nbformat_minor": 5
}
